{
 "cells": [
  {
   "cell_type": "code",
   "execution_count": 1,
   "id": "09820f6a",
   "metadata": {},
   "outputs": [],
   "source": [
    "import numpy as np\n",
    "import pandas as pd"
   ]
  },
  {
   "cell_type": "code",
   "execution_count": 8,
   "id": "1e4446b5",
   "metadata": {},
   "outputs": [
    {
     "name": "stderr",
     "output_type": "stream",
     "text": [
      "/Users/deryliankhalfani/anaconda3/envs/base312/lib/python3.12/site-packages/openpyxl/styles/stylesheet.py:237: UserWarning: Workbook contains no default style, apply openpyxl's default\n",
      "  warn(\"Workbook contains no default style, apply openpyxl's default\")\n"
     ]
    }
   ],
   "source": [
    "# price_df = pd.read_excel('bitcoin-price.xlsx')\n",
    "\n",
    "# price_df.to_csv('bitcoin-price.csv', index=False)"
   ]
  },
  {
   "cell_type": "code",
   "execution_count": 12,
   "id": "6847e240",
   "metadata": {},
   "outputs": [],
   "source": [
    "def load_price_data(filepath='bitcoin-price.csv'):\n",
    "    \"\"\"\n",
    "    Load BTC historical OHLCV data, convert timestamp to date.\n",
    "    Uses 'timeClose' as the daily reference timestamp.\n",
    "    \"\"\"\n",
    "    df = pd.read_csv(filepath)\n",
    "\n",
    "    # Convert Unix timestamp (ms) to datetime\n",
    "    df['date'] = pd.to_datetime(df['timeClose'], unit='ms')\n",
    "    df.set_index('date', inplace=True)\n",
    "\n",
    "    # Optional: drop raw timestamp columns to simplify\n",
    "    df = df[['priceOpen', 'priceHigh', 'priceLow', 'priceClose', 'volume']]\n",
    "\n",
    "    return df"
   ]
  },
  {
   "cell_type": "code",
   "execution_count": 23,
   "id": "4ef36880",
   "metadata": {},
   "outputs": [],
   "source": [
    "df = load_price_data('bitcoin-price.csv')\n",
    "\n",
    "df.index = df.index.normalize()"
   ]
  },
  {
   "cell_type": "code",
   "execution_count": 24,
   "id": "44112401",
   "metadata": {},
   "outputs": [
    {
     "data": {
      "text/html": [
       "<div>\n",
       "<style scoped>\n",
       "    .dataframe tbody tr th:only-of-type {\n",
       "        vertical-align: middle;\n",
       "    }\n",
       "\n",
       "    .dataframe tbody tr th {\n",
       "        vertical-align: top;\n",
       "    }\n",
       "\n",
       "    .dataframe thead th {\n",
       "        text-align: right;\n",
       "    }\n",
       "</style>\n",
       "<table border=\"1\" class=\"dataframe\">\n",
       "  <thead>\n",
       "    <tr style=\"text-align: right;\">\n",
       "      <th></th>\n",
       "      <th>priceOpen</th>\n",
       "      <th>priceHigh</th>\n",
       "      <th>priceLow</th>\n",
       "      <th>priceClose</th>\n",
       "      <th>volume</th>\n",
       "    </tr>\n",
       "    <tr>\n",
       "      <th>date</th>\n",
       "      <th></th>\n",
       "      <th></th>\n",
       "      <th></th>\n",
       "      <th></th>\n",
       "      <th></th>\n",
       "    </tr>\n",
       "  </thead>\n",
       "  <tbody>\n",
       "    <tr>\n",
       "      <th>2025-06-15</th>\n",
       "      <td>106108.085236</td>\n",
       "      <td>106203.756020</td>\n",
       "      <td>104379.365232</td>\n",
       "      <td>105472.408653</td>\n",
       "      <td>3.800787e+10</td>\n",
       "    </tr>\n",
       "    <tr>\n",
       "      <th>2025-06-14</th>\n",
       "      <td>105924.590561</td>\n",
       "      <td>106182.545978</td>\n",
       "      <td>102822.025804</td>\n",
       "      <td>106090.966395</td>\n",
       "      <td>6.955044e+10</td>\n",
       "    </tr>\n",
       "    <tr>\n",
       "      <th>2025-06-13</th>\n",
       "      <td>108685.910430</td>\n",
       "      <td>108780.697442</td>\n",
       "      <td>105785.688736</td>\n",
       "      <td>105929.051263</td>\n",
       "      <td>5.484387e+10</td>\n",
       "    </tr>\n",
       "    <tr>\n",
       "      <th>2025-06-12</th>\n",
       "      <td>110261.796257</td>\n",
       "      <td>110384.220962</td>\n",
       "      <td>108086.327919</td>\n",
       "      <td>108686.627682</td>\n",
       "      <td>5.084266e+10</td>\n",
       "    </tr>\n",
       "    <tr>\n",
       "      <th>2025-06-11</th>\n",
       "      <td>110295.687653</td>\n",
       "      <td>110380.121446</td>\n",
       "      <td>108367.713433</td>\n",
       "      <td>110257.237712</td>\n",
       "      <td>5.470010e+10</td>\n",
       "    </tr>\n",
       "  </tbody>\n",
       "</table>\n",
       "</div>"
      ],
      "text/plain": [
       "                priceOpen      priceHigh       priceLow     priceClose  \\\n",
       "date                                                                     \n",
       "2025-06-15  106108.085236  106203.756020  104379.365232  105472.408653   \n",
       "2025-06-14  105924.590561  106182.545978  102822.025804  106090.966395   \n",
       "2025-06-13  108685.910430  108780.697442  105785.688736  105929.051263   \n",
       "2025-06-12  110261.796257  110384.220962  108086.327919  108686.627682   \n",
       "2025-06-11  110295.687653  110380.121446  108367.713433  110257.237712   \n",
       "\n",
       "                  volume  \n",
       "date                      \n",
       "2025-06-15  3.800787e+10  \n",
       "2025-06-14  6.955044e+10  \n",
       "2025-06-13  5.484387e+10  \n",
       "2025-06-12  5.084266e+10  \n",
       "2025-06-11  5.470010e+10  "
      ]
     },
     "execution_count": 24,
     "metadata": {},
     "output_type": "execute_result"
    }
   ],
   "source": [
    "df.head()"
   ]
  },
  {
   "cell_type": "code",
   "execution_count": 25,
   "id": "8f0d7307",
   "metadata": {},
   "outputs": [],
   "source": [
    "df.to_csv(\"clean_btc_data.csv\")\n"
   ]
  }
 ],
 "metadata": {
  "kernelspec": {
   "display_name": "Python 3 (ipykernel)",
   "language": "python",
   "name": "python3"
  },
  "language_info": {
   "codemirror_mode": {
    "name": "ipython",
    "version": 3
   },
   "file_extension": ".py",
   "mimetype": "text/x-python",
   "name": "python",
   "nbconvert_exporter": "python",
   "pygments_lexer": "ipython3",
   "version": "3.12.9"
  }
 },
 "nbformat": 4,
 "nbformat_minor": 5
}
